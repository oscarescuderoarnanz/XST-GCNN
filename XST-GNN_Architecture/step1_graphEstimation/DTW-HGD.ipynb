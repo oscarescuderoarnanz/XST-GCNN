{
 "cells": [
  {
   "cell_type": "code",
   "execution_count": null,
   "id": "69ec5b60",
   "metadata": {},
   "outputs": [],
   "source": [
    "import pandas as pd\n",
    "import numpy as np\n",
    "import matplotlib.pyplot as plt\n",
    "from joblib import Parallel, delayed\n",
    "\n",
    "import warnings\n",
    "warnings.filterwarnings(\"ignore\")\n",
    "import random\n",
    "\n",
    "import hgd_dtw\n",
    "\n",
    "numberOfTimeStep = 14"
   ]
  },
  {
   "cell_type": "markdown",
   "id": "3db7a1ff",
   "metadata": {},
   "source": [
    "## Heterogeneous Gower Distance\n",
    "* IMPLEMENTATION OF GOWER DISTANCE CONSIDERING THE NATURE OF EACH VARIABLE, WITH CORRESPONDING NORMALIZATION AND RESCALING"
   ]
  },
  {
   "cell_type": "markdown",
   "id": "cc63cdac",
   "metadata": {},
   "source": [
    "## Features"
   ]
  },
  {
   "cell_type": "code",
   "execution_count": null,
   "id": "08ac2f0d",
   "metadata": {},
   "outputs": [],
   "source": [
    "folders = [\"s1\", \"s2\", \"s3\"]\n",
    "\n",
    "keys = ['AMG', 'ATF', 'ATI', 'ATP', 'CAR', 'CF1', 'CF2', 'CF3', 'CF4', 'Falta',\n",
    "        'GCC', 'GLI', 'LIN', 'LIP', 'MAC', 'MON', 'NTI', 'OTR', 'OXA', 'PAP',\n",
    "        'PEN', 'POL', 'QUI', 'SUL', 'TTC',\n",
    "        'MV hours', '# pat$_{atb}$', '# pat$_{MDR}$',\n",
    "        'CAR$_{n}$', 'PAP$_{n}$', 'Falta$_{n}$',\n",
    "        'QUI$_{n}$', 'ATF$_{n}$', 'OXA$_{n}$', 'PEN$_{n}$',\n",
    "        'CF3$_{n}$', 'GLI$_{n}$', 'CF4$_{n}$', 'SUL$_{n}$',\n",
    "        'NTI$_{n}$', 'LIN$_{n}$', 'AMG$_{n}$', 'MAC$_{n}$',\n",
    "        'CF1$_{n}$', 'GCC$_{n}$', 'POL$_{n}$', 'ATI$_{n}$',\n",
    "        'MON$_{n}$', 'LIP$_{n}$', 'TTC$_{n}$', 'OTR$_{n}$',\n",
    "        'CF2$_{n}$', 'ATP$_{n}$', \n",
    "        '# pat$_{tot}$',\n",
    "        'Post change',\n",
    "        'Insulin', 'Art nutrition', 'Sedation', 'Relax', 'Hepatic$_{fail}$',\n",
    "        'Renal$_{fail}$', 'Coagulation$_{fail}$', 'Hemodynamic$_{fail}$',\n",
    "        'Respiratory$_{fail}$', 'Multiorganic$_{fail}$',  '# transfusions',\n",
    "        'Vasoactive drug', 'Dosis nems', 'Tracheo$_{hours}$', 'Ulcer$_{hours}$',\n",
    "        'Hemo$_{hours}$', 'C01 PIVC 1',\n",
    "        'C01 PIVC 2', 'C02 CVC - RJ',\n",
    "        'C02 CVC - RS', 'C02 CVC - LS', 'C02 CVC - RF',\n",
    "        'C02 CVC - LJ', 'C02 CVC - LF', '# catheters']\n",
    "\n",
    "binary = ['AMG', 'ATF', 'ATI', 'ATP', 'CAR', 'CF1',\n",
    "            'CF2', 'CF3', 'CF4', 'Falta', 'GCC', 'GLI', 'LIN', 'LIP', 'MAC',\n",
    "            'MON', 'NTI', 'OTR', 'OXA', 'PAP', 'PEN', 'POL', 'QUI', 'SUL', 'TTC',\n",
    "            'Post change',\n",
    "            'Insulin', 'Art nutrition', 'Sedation', 'Relax', 'Hepatic$_{fail}$',\n",
    "            'Renal$_{fail}$', 'Coagulation$_{fail}$', 'Hemodynamic$_{fail}$',\n",
    "            'Respiratory$_{fail}$', 'Multiorganic$_{fail}$',  'Vasoactive drug']\n",
    "\n",
    "\n",
    "continuous =  [variable for variable in keys if variable not in binary]"
   ]
  },
  {
   "cell_type": "markdown",
   "id": "be45cdab",
   "metadata": {},
   "source": [
    "## Considering all irregular MTS\n",
    "* The entire temporal horizon is treated as a unified entity: CPG"
   ]
  },
  {
   "cell_type": "code",
   "execution_count": null,
   "id": "ba0649b2",
   "metadata": {},
   "outputs": [],
   "source": [
    "for c in range(len(folders)):\n",
    "\n",
    "    ########################\n",
    "    ###### PARAMETERS ######\n",
    "    ########################\n",
    "    numberOfTimeStep = 14\n",
    "    norm = \"normPower2\"\n",
    "    ########################\n",
    "\n",
    "    ####### BEGIN CODE ===>>\n",
    "    # Load data\n",
    "    X_train = np.load(\"../../DATA/\" + folders[c] + \"/X_train_tensor_\" + norm + \".npy\")\n",
    "    \n",
    "    print(\"X_train shape before reshape and val:\", X_train.shape)\n",
    "    \n",
    "    # Reshape data by features --> PxTxF to FxTxP\n",
    "    X_train = hgd_dtw.reshape_patients_by_features(X_train, keys, numberOfTimeStep)\n",
    "    \n",
    "    print(\"X_train shape after reshape:\", X_train.shape)\n",
    "    \n",
    "    # Compute Heterogeneous Gower Distance\n",
    "    result = Parallel(n_jobs=12)(\n",
    "        delayed(hgd_dtw.compute_hgd_matrix)(X_train, X_train[f1, :, :], X_train[f2, :, :], keys[f1], keys[f2], binary, continuous)\n",
    "        for f1 in range(X_train.shape[0]) for f2 in range(X_train.shape[0])\n",
    "    )\n",
    "    \n",
    "    # Replace NaNs with zero\n",
    "    lista_sin_nan = hgd_dtw.replace_nan_with_zero(result)\n",
    "    \n",
    "    # Compute DTW distance based on HGD matrix\n",
    "    dtw_matrix_train = Parallel(n_jobs=96)(\n",
    "        delayed(hgd_dtw.compute_new_dtw)(lista_sin_nan[i])\n",
    "        for i in range(X_train.shape[0] * X_train.shape[0])\n",
    "    )\n",
    "\n",
    "    data = np.array(dtw_matrix_train).reshape((X_train.shape[0], X_train.shape[0]))\n",
    "    \n",
    "    # Save the results as CSV\n",
    "    pd.DataFrame(data, columns=keys, index=keys).to_csv(\"./estimatedGraphs/dtw-hgd/\" + folders[c] + \"/X_train_allMTS_\" + norm + \".csv\", index=False)\n"
   ]
  },
  {
   "cell_type": "markdown",
   "id": "a2bcef1f",
   "metadata": {},
   "source": [
    "## Considering by time step\n",
    "* The relationships are assessed independently at each time step"
   ]
  },
  {
   "cell_type": "code",
   "execution_count": null,
   "id": "bb0c85cd",
   "metadata": {},
   "outputs": [],
   "source": [
    "for c in range(len(folders)):\n",
    "    # Load data\n",
    "    X_train = np.load(\"../../DATA/\" + folders[c] + \"/X_train_tensor_\" + norm + \".npy\")\n",
    "    print(\"X_noAMR_tr shape before reshape and val:\", X_train.shape)\n",
    "    \n",
    "    # Reshape data by features --> PxTxF to FxTxP\n",
    "    X_train = hgd_dtw.reshape_patients_by_features(X_train, keys, numberOfTimeStep)\n",
    "    print(\"X_train shape after reshape:\", X_train.shape)\n",
    "\n",
    "    for nt in range(numberOfTimeStep):\n",
    "        # Option 1: Generate a correlation matrix by matrix\n",
    "        x = X_train[:, nt, :] \n",
    "        \n",
    "        # Initialize an 80x80 distance matrix\n",
    "        mat_by_time_step = np.zeros((x.shape[0], x.shape[0]))\n",
    "\n",
    "        for i in range(x.shape[0]):\n",
    "            for j in range(x.shape[0]):\n",
    "                mat_by_time_step[i, j] = hgd_dtw.hgd_distance(x[i], x[j], keys[i], keys[j], binary, continuous)\n",
    "\n",
    "        S = hgd_dtw.diagonal_to_zero(mat_by_time_step)\n",
    "\n",
    "        pd.DataFrame(S, columns=keys, index=keys).to_csv(\"./estimatedGraphs/dtw-hgd/\" + folders[c] + \"/X_train_TS_\" + str(nt) + \"_\" + norm + \".csv\", index=False)\n"
   ]
  }
 ],
 "metadata": {
  "kernelspec": {
   "display_name": "Python 3 (ipykernel)",
   "language": "python",
   "name": "python3"
  },
  "language_info": {
   "codemirror_mode": {
    "name": "ipython",
    "version": 3
   },
   "file_extension": ".py",
   "mimetype": "text/x-python",
   "name": "python",
   "nbconvert_exporter": "python",
   "pygments_lexer": "ipython3",
   "version": "3.11.4"
  }
 },
 "nbformat": 4,
 "nbformat_minor": 5
}
