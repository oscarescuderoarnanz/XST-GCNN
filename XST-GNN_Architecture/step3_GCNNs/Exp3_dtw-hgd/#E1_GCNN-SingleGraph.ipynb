{
 "cells": [
  {
   "cell_type": "code",
   "execution_count": 1,
   "id": "d118f8ae",
   "metadata": {},
   "outputs": [],
   "source": [
    "import torch\n",
    "import torch.nn.functional as F\n",
    "import torch.nn as nn\n",
    "import numpy as np\n",
    "import pandas as pd\n",
    "import matplotlib.pyplot as plt\n",
    "\n",
    "# My libraries\n",
    "import sys\n",
    "sys.path.append('../')\n",
    "\n",
    "import models\n",
    "import utils"
   ]
  },
  {
   "cell_type": "markdown",
   "id": "6c0896ac",
   "metadata": {},
   "source": [
    "## General parameters"
   ]
  },
  {
   "cell_type": "code",
   "execution_count": 2,
   "id": "688bde93",
   "metadata": {},
   "outputs": [
    {
     "name": "stdout",
     "output_type": "stream",
     "text": [
      "Seleccionando la segunda GPU: NVIDIA GeForce RTX 3090\n"
     ]
    }
   ],
   "source": [
    "numberOfTimeStep = 14\n",
    "folders = [\"s1\", \"s2\", \"s3\"]\n",
    "\n",
    "norm = \"robustNorm\"\n",
    "\n",
    "device = torch.device('cuda:0')\n",
    "print(\"Seleccionando la segunda GPU:\", torch.cuda.get_device_name(device))"
   ]
  },
  {
   "cell_type": "markdown",
   "id": "96ea1b2f",
   "metadata": {},
   "source": [
    "## Train phase"
   ]
  },
  {
   "cell_type": "code",
   "execution_count": 3,
   "id": "f581cec1",
   "metadata": {},
   "outputs": [],
   "source": [
    "# Always the same values, do not touch. \n",
    "in_dim_GCN = 1\n",
    "out_dim_GCN = 1\n",
    "\n",
    "# number of max epochs \n",
    "n_epochs = 1000\n",
    "\n",
    "# Early stopping configuration\n",
    "early_stopping_patience = 50\n",
    "\n",
    "# Hyperparameters to be optimized (change this values)\n",
    "h_dropout = [0.0, 0.15, 0.3]\n",
    "h_learning_rate = [1e-3, 1e-2, 5e-2, 0.1]\n",
    "h_decay = [0, 1e-5, 1e-4, 1e-3, 1e-2]\n",
    "h_hid_lay = [4, 8, 16, 32, 64]\n",
    "h_layers = [1, 2, 3, 4, 5, 6]\n",
    "seed = [42, 76, 124, 163, 192, 205, 221, 245, 293]\n",
    "\n",
    "fc_layer = [[80, out_dim_GCN]]\n",
    "\n",
    "# Parameters to define type of GCNN and type of output.\n",
    "typeGCN = \"standard_gcnn\"\n",
    "K = [0]\n",
    "\n",
    "params = {# Hyperparameters\n",
    "         'h_layers':h_layers, 'n_epochs':n_epochs, \n",
    "          'h_dropout': h_dropout, 'h_learning_rate': h_learning_rate, \n",
    "          'h_decay':h_decay, 'h_hid_lay': h_hid_lay, 'K':K,\n",
    "          'fc_layer': fc_layer,\n",
    "          # seed to set initialization hyperparameters\n",
    "          'seed': seed, \n",
    "          # Type of output GCN\n",
    "          'typeGCN': typeGCN,\n",
    "          # Dimensions of GCN (input/output)\n",
    "          'in_dim_GCN': in_dim_GCN, 'out_dim_GCN': out_dim_GCN,\n",
    "          # Patiente\n",
    "          'early_stopping_patience':early_stopping_patience}"
   ]
  },
  {
   "cell_type": "code",
   "execution_count": 4,
   "id": "6cf7ac1d",
   "metadata": {},
   "outputs": [],
   "source": [
    "way_to_build_graph = \"dtw-hgd\"\n",
    "numberOfFeatures = 80"
   ]
  },
  {
   "cell_type": "code",
   "execution_count": null,
   "id": "1ae68d7f",
   "metadata": {
    "scrolled": true
   },
   "outputs": [],
   "source": [
    "best_result_by_split = {}\n",
    "for carp in range(len(folders)):\n",
    "    torch.cuda.empty_cache()\n",
    "    # Load data\n",
    "    X_train_vec, X_val_vec, X_test_vec, y_train, y_val, y_test = utils.load_data(norm, device, folders[carp], SG=True)\n",
    "    A = pd.read_csv(\"../../\"+way_to_build_graph+\"/\"+folders[carp]+\"/ProdGraph_Xtr_\"+norm+\"_th_0.975.csv\")\n",
    "    A = A.iloc[0:numberOfFeatures, 0:numberOfFeatures]\n",
    "    A = torch.tensor(np.array(A), dtype=torch.float32)\n",
    "\n",
    "    print(\"===========> TRAIN-VAL PHASE ==================\")\n",
    "    bestHyperparameters = utils.train_val_phase(A, X_train_vec, X_val_vec, y_train, y_val, params, device)\n",
    "    print(\"<========== END TRAIN-VAL PHASE ===============\")\n",
    "    best_result_by_split[folders[carp]] = bestHyperparameters    \n",
    "\n",
    "utils.saveBestHyperparameters(best_result_by_split, \"../hyperparameters/\"+way_to_build_graph+\"/#E1-SingleGraph_th_0.975.json\")\n",
    "\n",
    "torch.cuda.empty_cache()"
   ]
  },
  {
   "cell_type": "markdown",
   "id": "f002292a",
   "metadata": {},
   "source": [
    "## Validation phase"
   ]
  },
  {
   "cell_type": "code",
   "execution_count": 5,
   "id": "aa871691",
   "metadata": {},
   "outputs": [
    {
     "name": "stdout",
     "output_type": "stream",
     "text": [
      "Early stopping at epoch 119\n",
      "Early stopping at epoch 103\n",
      "Early stopping at epoch 132\n",
      "================= SPLIT s1 ===================\n",
      "roc_auc: 75.3\n",
      "sensitivity: 58.49\n",
      "specificity: 74.75\n",
      "================= SPLIT s2 ===================\n",
      "roc_auc: 73.2\n",
      "sensitivity: 60.38\n",
      "specificity: 73.74\n",
      "================= SPLIT s3 ===================\n",
      "roc_auc: 75.08\n",
      "sensitivity: 64.15\n",
      "specificity: 74.41\n",
      "\n",
      "test_acc: 72.29 +- 0.47\n",
      "roc_auc: 74.53 +- 0.94\n",
      "sensitivity: 61.01 +- 2.35\n",
      "specificity: 74.3 +- 0.42\n",
      "\n",
      " 74.53 +- 0.94 & 61.01 +- 2.35 & 74.3 +- 0.42 \\\\ \n"
     ]
    }
   ],
   "source": [
    "folders = [\"s1\", \"s2\", \"s3\"]\n",
    "best_result_by_split = utils.loadBestHyperparameters(\"../hyperparameters/\"+way_to_build_graph+\"/#E1-SingleGraph_th_0.975.json\")\n",
    "\n",
    "typeOfGraph = \"ProdGraph\"\n",
    "path_A = typeOfGraph+\"_Xtr_\"+norm+\"_th_0.975.csv\"\n",
    "results, importance_nodes, fc_classifiers, gnn_models = utils.val_model(best_result_by_split, typeOfGraph, params, folders, \\\n",
    "                                                                        norm, device, path_A, way_to_build_graph, SG=True)\n",
    "\n",
    "keys = list(results.keys())\n",
    "for c in range(len(folders)):\n",
    "    print(\"================= SPLIT \" + str(folders[c]) + \" ===================\")\n",
    "    print(keys[1] + \": \" + str(np.round(results[keys[1]][c]*100,2)))\n",
    "    print(keys[2] + \": \" + str(np.round(results[keys[2]][c]*100,2)))\n",
    "    print(keys[3] + \": \" + str(np.round(results[keys[3]][c]*100,2)))\n",
    "    \n",
    "print()\n",
    "str_result = \"\"\n",
    "for i in range(len(results.keys())):\n",
    "    average = np.mean(results[keys[i]])\n",
    "    std = np.std(results[keys[i]])\n",
    "    print(keys[i] + \": \" + str(np.round(average*100,2)) + \" +- \" + str(np.round(std*100, 2)))\n",
    "    if i in [1,2]:\n",
    "        str_result += str(np.round(average*100,2)) + \" +- \" + str(np.round(std*100, 2)) + \" & \"\n",
    "    elif i in [3]:\n",
    "        str_result += str(np.round(average*100,2)) + \" +- \" + str(np.round(std*100, 2)) + \" \\\\\\ \"\n",
    "print(\"\\n\",str_result)\n",
    "\n",
    "torch.cuda.empty_cache()"
   ]
  },
  {
   "cell_type": "code",
   "execution_count": null,
   "id": "cd841426",
   "metadata": {},
   "outputs": [],
   "source": [
    "74.53 +- 0.94 & 61.01 +- 2.35 & 74.3 +- 0.42 \\\\"
   ]
  }
 ],
 "metadata": {
  "kernelspec": {
   "display_name": "Python 3 (ipykernel)",
   "language": "python",
   "name": "python3"
  },
  "language_info": {
   "codemirror_mode": {
    "name": "ipython",
    "version": 3
   },
   "file_extension": ".py",
   "mimetype": "text/x-python",
   "name": "python",
   "nbconvert_exporter": "python",
   "pygments_lexer": "ipython3",
   "version": "3.11.4"
  }
 },
 "nbformat": 4,
 "nbformat_minor": 5
}
