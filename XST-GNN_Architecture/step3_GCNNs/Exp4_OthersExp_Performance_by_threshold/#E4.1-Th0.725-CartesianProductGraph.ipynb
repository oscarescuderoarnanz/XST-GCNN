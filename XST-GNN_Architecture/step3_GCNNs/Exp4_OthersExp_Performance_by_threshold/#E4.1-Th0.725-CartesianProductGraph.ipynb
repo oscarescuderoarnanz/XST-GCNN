{
 "cells": [
  {
   "cell_type": "code",
   "execution_count": 1,
   "id": "da26005d",
   "metadata": {},
   "outputs": [],
   "source": [
    "import torch\n",
    "import torch.nn.functional as F\n",
    "import torch.nn as nn\n",
    "import numpy as np\n",
    "import pandas as pd\n",
    "import matplotlib.pyplot as plt\n",
    "\n",
    "# My libraries\n",
    "import sys\n",
    "sys.path.append('../') \n",
    "\n",
    "import models\n",
    "import utils"
   ]
  },
  {
   "cell_type": "code",
   "execution_count": 2,
   "id": "514e629c",
   "metadata": {},
   "outputs": [
    {
     "name": "stdout",
     "output_type": "stream",
     "text": [
      "Seleccionando la primera GPU: NVIDIA GeForce RTX 3090\n"
     ]
    }
   ],
   "source": [
    "numberOfTimeStep = 14\n",
    "folders = [\"s1\", \"s2\", \"s3\"]\n",
    "norm = \"robustNorm\"\n",
    "\n",
    "device = torch.device('cuda:0')\n",
    "print(\"Seleccionando la primera GPU:\", torch.cuda.get_device_name(device))"
   ]
  },
  {
   "cell_type": "markdown",
   "id": "2be278ea",
   "metadata": {},
   "source": [
    "## Hyperparameteres"
   ]
  },
  {
   "cell_type": "code",
   "execution_count": 3,
   "id": "0b4d43e5",
   "metadata": {},
   "outputs": [],
   "source": [
    "# Always the same values, do not touch. \n",
    "in_dim_GCN = 1\n",
    "out_dim_GCN = 1\n",
    "\n",
    "# number of max epochs \n",
    "n_epochs = 1000\n",
    "\n",
    "# Configuración de early stopping\n",
    "early_stopping_patience = 50\n",
    "\n",
    "# Hyperparameters to be optimized (change this values)\n",
    "h_dropout = [0.0, 0.15, 0.3]\n",
    "h_learning_rate = [1e-3, 1e-2, 5e-2, 0.1]\n",
    "h_decay = [0, 1e-5, 1e-4, 1e-3, 1e-2]\n",
    "h_hid_lay = [4, 8, 16, 32, 64]\n",
    "h_layers = [1, 2, 3, 4, 5, 6]\n",
    "seed = [42, 76, 124, 163, 192, 205, 221, 245, 293]\n",
    "\n",
    "fc_layer = [[1120, out_dim_GCN]]\n",
    "\n",
    "# Parameters to define type of GCNN and type of output.\n",
    "typeGCN = \"higher_order_polynomial_gcnn\"\n",
    "K = [2,3]\n",
    "\n",
    "params = {# Hyperparameters\n",
    "         'h_layers':h_layers, 'n_epochs':n_epochs, \n",
    "          'h_dropout': h_dropout, 'h_learning_rate': h_learning_rate, \n",
    "          'h_decay':h_decay, 'h_hid_lay': h_hid_lay, 'K':K,\n",
    "          'fc_layer': fc_layer,\n",
    "          # seed to set initialization hyperparameters\n",
    "          'seed': seed, \n",
    "          # Type of output GCN\n",
    "          'typeGCN': typeGCN,\n",
    "          # Dimensions of GCN (input/output)\n",
    "          'in_dim_GCN': in_dim_GCN, 'out_dim_GCN': out_dim_GCN,\n",
    "          # Patiente\n",
    "          'early_stopping_patience':early_stopping_patience}"
   ]
  },
  {
   "cell_type": "markdown",
   "id": "1cb1e7af",
   "metadata": {},
   "source": [
    "## Way to build the network: \n",
    "### Product Graph of the same adjacency matrix obtained by dtw"
   ]
  },
  {
   "cell_type": "code",
   "execution_count": 4,
   "id": "f6d00551",
   "metadata": {},
   "outputs": [],
   "source": [
    "way_to_build_graph = \"dtw-hgd\"\n",
    "# Others ways: correlations; smoothness"
   ]
  },
  {
   "cell_type": "markdown",
   "id": "3e943d8f",
   "metadata": {},
   "source": [
    "## Train phase"
   ]
  },
  {
   "cell_type": "code",
   "execution_count": null,
   "id": "e34b81d9",
   "metadata": {
    "scrolled": true
   },
   "outputs": [],
   "source": [
    "best_result_by_split = {}\n",
    "\n",
    "for carp in range(len(folders)):\n",
    "    torch.cuda.empty_cache()\n",
    "    # Load data\n",
    "    X_train_vec, X_val_vec, X_test_vec, y_train, y_val, y_test = utils.load_data(norm, device, folders[carp])\n",
    "    A = pd.read_csv(\"../../step2_graphRepresentation/\"+way_to_build_graph+\"/\"+folders[carp]+\"/ProdGraph_Xtr_\"+norm+\"_th_0.725.csv\")\n",
    "    A = torch.tensor(np.array(A), dtype=torch.float32)\n",
    "\n",
    "    print(\"===========> TRAIN-VAL PHASE ==================\")\n",
    "    bestHyperparameters = utils.train_val_phase(A, X_train_vec, X_val_vec, y_train, y_val, params, device)\n",
    "    print(\"<========== END TRAIN-VAL PHASE ===============\")\n",
    "    best_result_by_split[folders[carp]] = bestHyperparameters   \n",
    "    \n",
    "utils.saveBestHyperparameters(best_result_by_split,\"../hyperparameters/\"+way_to_build_graph+\"/#E4.1-ProductGraph_th_0.725.json\")"
   ]
  },
  {
   "cell_type": "code",
   "execution_count": null,
   "id": "13fa87dc",
   "metadata": {},
   "outputs": [],
   "source": [
    "best_result_by_split = {'s1': {'dropout': 0,\n",
    "  'decay': 4,\n",
    "  'lr': 3,\n",
    "  'hid_lay': 1,\n",
    "  'K': 0,\n",
    "  'seed': 3,\n",
    "  'n_lay': 2,\n",
    "  'best_loss': 0.30017027258872986},\n",
    " 's2': {'dropout': 1,\n",
    "  'decay': 2,\n",
    "  'lr': 3,\n",
    "  'hid_lay': 1,\n",
    "  'K': 0,\n",
    "  'seed': 5,\n",
    "  'n_lay': 1,\n",
    "  'best_loss': 0.3049663007259369},\n",
    " 's3': {'dropout': 0,\n",
    "  'decay': 4,\n",
    "  'lr': 1,\n",
    "  'hid_lay': 0,\n",
    "  'K': 0,\n",
    "  'seed': 3,\n",
    "  'n_lay': 2,\n",
    "  'best_loss': 0.29226112365722656}}\n",
    "\n",
    "utils.saveBestHyperparameters(best_result_by_split,\"../hyperparameters/\"+way_to_build_graph+\"/#E4.1-ProductGraph_th_0.725.json\")"
   ]
  },
  {
   "cell_type": "markdown",
   "id": "9516e042",
   "metadata": {},
   "source": [
    "## Validation phase"
   ]
  },
  {
   "cell_type": "code",
   "execution_count": 5,
   "id": "da910c92",
   "metadata": {},
   "outputs": [
    {
     "name": "stdout",
     "output_type": "stream",
     "text": [
      "Early stopping at epoch 63\n",
      "Early stopping at epoch 59\n",
      "Early stopping at epoch 53\n",
      "================= SPLIT s1 ===================\n",
      "roc_auc: 75.93\n",
      "sensitivity: 69.81\n",
      "specificity: 73.4\n",
      "================= SPLIT s2 ===================\n",
      "roc_auc: 76.92\n",
      "sensitivity: 83.02\n",
      "specificity: 66.67\n",
      "================= SPLIT s3 ===================\n",
      "roc_auc: 79.46\n",
      "sensitivity: 75.47\n",
      "specificity: 75.76\n",
      "\n",
      "test_acc: 72.57 +- 2.69\n",
      "roc_auc: 77.44 +- 1.49\n",
      "sensitivity: 76.1 +- 5.41\n",
      "specificity: 71.94 +- 3.85\n",
      "\n",
      " 77.44 +- 1.49 & 76.1 +- 5.41 & 71.94 +- 3.85 \\\\ \n"
     ]
    }
   ],
   "source": [
    "folders = [\"s1\", \"s2\", \"s3\"]\n",
    "best_result_by_split = utils.loadBestHyperparameters(\"../hyperparameters/\"+way_to_build_graph+\"/#E4.1-ProductGraph_th_0.725.json\")\n",
    "\n",
    "typeOfGraph = \"ProdGraph\"\n",
    "path_A = typeOfGraph+\"_Xtr_\"+norm+\"_th_0.725.csv\"\n",
    "results, importance_nodes, mlp_classifiers, gnn_models = utils.val_model(best_result_by_split, typeOfGraph, params, folders, norm, device, path_A, way_to_build_graph)\n",
    "\n",
    "keys = list(results.keys())\n",
    "for c in range(len(folders)):\n",
    "    print(\"================= SPLIT \" + str(folders[c]) + \" ===================\")\n",
    "    print(keys[1] + \": \" + str(np.round(results[keys[1]][c]*100,2)))\n",
    "    print(keys[2] + \": \" + str(np.round(results[keys[2]][c]*100,2)))\n",
    "    print(keys[3] + \": \" + str(np.round(results[keys[3]][c]*100,2)))\n",
    "    \n",
    "print()\n",
    "str_result = \"\"\n",
    "for i in range(len(results.keys())):\n",
    "    average = np.mean(results[keys[i]])\n",
    "    std = np.std(results[keys[i]])\n",
    "    print(keys[i] + \": \" + str(np.round(average*100,2)) + \" +- \" + str(np.round(std*100, 2)))\n",
    "    if i in [1,2]:\n",
    "        str_result += str(np.round(average*100,2)) + \" +- \" + str(np.round(std*100, 2)) + \" & \"\n",
    "    elif i in [3]:\n",
    "        str_result += str(np.round(average*100,2)) + \" +- \" + str(np.round(std*100, 2)) + \" \\\\\\ \"\n",
    "print(\"\\n\",str_result)\n",
    "\n",
    "torch.cuda.empty_cache()"
   ]
  },
  {
   "cell_type": "code",
   "execution_count": null,
   "id": "3aac29b0",
   "metadata": {},
   "outputs": [],
   "source": []
  }
 ],
 "metadata": {
  "kernelspec": {
   "display_name": "Python 3 (ipykernel)",
   "language": "python",
   "name": "python3"
  },
  "language_info": {
   "codemirror_mode": {
    "name": "ipython",
    "version": 3
   },
   "file_extension": ".py",
   "mimetype": "text/x-python",
   "name": "python",
   "nbconvert_exporter": "python",
   "pygments_lexer": "ipython3",
   "version": "3.11.4"
  }
 },
 "nbformat": 4,
 "nbformat_minor": 5
}
